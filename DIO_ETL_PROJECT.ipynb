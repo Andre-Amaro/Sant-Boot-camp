{
 "cells": [
  {
   "cell_type": "markdown",
   "metadata": {},
   "source": [
    "Imports"
   ]
  },
  {
   "cell_type": "code",
   "execution_count": 26,
   "metadata": {},
   "outputs": [],
   "source": [
    "import pandas as pd"
   ]
  },
  {
   "cell_type": "code",
   "execution_count": 27,
   "metadata": {},
   "outputs": [
    {
     "name": "stdout",
     "output_type": "stream",
     "text": [
      "[429.0, 15322.0, 14092.0, 13879.0, 11119.0, 15421.0, 12434.0, 5665.0, 15424.0, 6279.0, 16048.0, 16177.0, 16254.0, 5.0, 16303.0, 16297.0, 16345.0, 16353.0, 16358.0, 16411.0, 16436.0, 16441.0, 13017.0, 16637.0, 16635.0, 16916.0, 17059.0, 17051.0, 17074.0, 10850.0, 17248.0, 6292.0, 17228.0, 17279.0, 13701.0, 14639.0, 14733.0, 17350.0, 17637.0, 17392.0, 15763.0, 17476.0, 17371.0, 15977.0, 13041.0, 17560.0, 17587.0, nan, nan, nan, nan, nan, nan, nan, nan, nan]\n"
     ]
    }
   ],
   "source": [
    "data = pd.read_csv('voip.csv')\n",
    "terminais = data['Terminal'].tolist()\n",
    "print(terminais)"
   ]
  },
  {
   "cell_type": "code",
   "execution_count": 28,
   "metadata": {},
   "outputs": [
    {
     "data": {
      "text/html": [
       "<div>\n",
       "<style scoped>\n",
       "    .dataframe tbody tr th:only-of-type {\n",
       "        vertical-align: middle;\n",
       "    }\n",
       "\n",
       "    .dataframe tbody tr th {\n",
       "        vertical-align: top;\n",
       "    }\n",
       "\n",
       "    .dataframe thead th {\n",
       "        text-align: right;\n",
       "    }\n",
       "</style>\n",
       "<table border=\"1\" class=\"dataframe\">\n",
       "  <thead>\n",
       "    <tr style=\"text-align: right;\">\n",
       "      <th></th>\n",
       "      <th>DDD</th>\n",
       "      <th>Número</th>\n",
       "      <th>Terminal</th>\n",
       "      <th>Senha</th>\n",
       "      <th>Data Da Ativação</th>\n",
       "    </tr>\n",
       "  </thead>\n",
       "  <tbody>\n",
       "    <tr>\n",
       "      <th>0</th>\n",
       "      <td>31</td>\n",
       "      <td>29420644</td>\n",
       "      <td>429.0</td>\n",
       "      <td>s3nh4429</td>\n",
       "      <td>14/06/2021</td>\n",
       "    </tr>\n",
       "  </tbody>\n",
       "</table>\n",
       "</div>"
      ],
      "text/plain": [
       "   DDD    Número  Terminal     Senha Data Da Ativação\n",
       "0   31  29420644     429.0  s3nh4429       14/06/2021"
      ]
     },
     "execution_count": 28,
     "metadata": {},
     "output_type": "execute_result"
    }
   ],
   "source": [
    "def get_number(code):\n",
    "    if code in terminais:    \n",
    "        return data.query(f'Terminal=={code}').dropna(axis=1)\n",
    "    else: return 'Terminal Não cadastrado'\n",
    "    \n",
    "get_number(429)"
   ]
  },
  {
   "cell_type": "code",
   "execution_count": 29,
   "metadata": {},
   "outputs": [
    {
     "data": {
      "text/html": [
       "<div>\n",
       "<style scoped>\n",
       "    .dataframe tbody tr th:only-of-type {\n",
       "        vertical-align: middle;\n",
       "    }\n",
       "\n",
       "    .dataframe tbody tr th {\n",
       "        vertical-align: top;\n",
       "    }\n",
       "\n",
       "    .dataframe thead th {\n",
       "        text-align: right;\n",
       "    }\n",
       "</style>\n",
       "<table border=\"1\" class=\"dataframe\">\n",
       "  <thead>\n",
       "    <tr style=\"text-align: right;\">\n",
       "      <th></th>\n",
       "      <th>DDD</th>\n",
       "      <th>Número</th>\n",
       "      <th>Terminal</th>\n",
       "      <th>Senha</th>\n",
       "      <th>Data Da Ativação</th>\n",
       "    </tr>\n",
       "  </thead>\n",
       "  <tbody>\n",
       "    <tr>\n",
       "      <th>0</th>\n",
       "      <td>31</td>\n",
       "      <td>29420644</td>\n",
       "      <td>429.0</td>\n",
       "      <td>hdtXSlpsW</td>\n",
       "      <td>14/06/2021</td>\n",
       "    </tr>\n",
       "  </tbody>\n",
       "</table>\n",
       "</div>"
      ],
      "text/plain": [
       "   DDD    Número  Terminal      Senha Data Da Ativação\n",
       "0   31  29420644     429.0  hdtXSlpsW       14/06/2021"
      ]
     },
     "execution_count": 29,
     "metadata": {},
     "output_type": "execute_result"
    }
   ],
   "source": [
    "def update_pass(code,newpass):\n",
    "    if code in terminais:\n",
    "        data.loc[data['Terminal']== code, 'Senha'] = newpass\n",
    "        return data.query(f'Terminal=={code}').dropna(axis=1)\n",
    "    else: return 'Terminal não cadastrado'\n",
    "update_pass(429,'hdtXSlpsW')"
   ]
  },
  {
   "cell_type": "code",
   "execution_count": 31,
   "metadata": {},
   "outputs": [],
   "source": [
    "data.to_csv('voip.csv')"
   ]
  }
 ],
 "metadata": {
  "kernelspec": {
   "display_name": "Python 3",
   "language": "python",
   "name": "python3"
  },
  "language_info": {
   "codemirror_mode": {
    "name": "ipython",
    "version": 3
   },
   "file_extension": ".py",
   "mimetype": "text/x-python",
   "name": "python",
   "nbconvert_exporter": "python",
   "pygments_lexer": "ipython3",
   "version": "3.10.8"
  },
  "orig_nbformat": 4
 },
 "nbformat": 4,
 "nbformat_minor": 2
}
